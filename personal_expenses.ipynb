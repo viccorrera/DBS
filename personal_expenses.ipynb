{
 "cells": [
  {
   "cell_type": "code",
   "execution_count": 3,
   "metadata": {},
   "outputs": [],
   "source": [
    "import pandas as pd\n",
    "\n",
    "path = r'C:\\Users\\victo\\OneDrive\\Sheets\\Personal Expenses.xlsx'\n",
    "path2 = r'C:\\Users\\victo\\Downloads\\E_shop_Customers_withTarget.csv'\n",
    "\n",
    "df = pd.read_excel(path, sheet_name='ExpenseLog')\n",
    "df2 = pd.read_csv(path2, sep='\\t')"
   ]
  },
  {
   "cell_type": "code",
   "execution_count": 4,
   "metadata": {},
   "outputs": [
    {
     "name": "stdout",
     "output_type": "stream",
     "text": [
      "<class 'pandas.core.frame.DataFrame'>\n",
      "RangeIndex: 2149 entries, 0 to 2148\n",
      "Data columns (total 15 columns):\n",
      " #   Column           Non-Null Count  Dtype         \n",
      "---  ------           --------------  -----         \n",
      " 0   Date             2149 non-null   datetime64[ns]\n",
      " 1   Type             2149 non-null   object        \n",
      " 2   Amount           2149 non-null   float64       \n",
      " 3   Description      2149 non-null   object        \n",
      " 4   Comment          178 non-null    object        \n",
      " 5   Include in Calc  2149 non-null   bool          \n",
      " 6   Total Balance    2149 non-null   float64       \n",
      " 7   Account          2149 non-null   object        \n",
      " 8   Order            156 non-null    float64       \n",
      " 9   Category         2149 non-null   object        \n",
      " 10  OrderRef         2149 non-null   int64         \n",
      " 11  DateMonth        2149 non-null   object        \n",
      " 12  DateYear         2149 non-null   object        \n",
      " 13  DateRef          2149 non-null   datetime64[ns]\n",
      " 14  DaySincePay      2149 non-null   int64         \n",
      "dtypes: bool(1), datetime64[ns](2), float64(3), int64(2), object(7)\n",
      "memory usage: 237.3+ KB\n"
     ]
    }
   ],
   "source": [
    "df.info()"
   ]
  },
  {
   "cell_type": "code",
   "execution_count": null,
   "metadata": {},
   "outputs": [],
   "source": [
    "import plotly.graph_objects as go\n",
    "\n",
    "# Create traces\n",
    "fig = go.Figure()\n",
    "fig.add_trace(go.Scatter(x=df['Date'], y=df['Amount'],\n",
    "                    mode='lines',\n",
    "                    name='lines',\n",
    "                    xperiod=\"M1\",\n",
    "                    xperiodalignment=\"middle\"))\n",
    "fig.add_trace(go.Scatter(x=df['Date'], y=df['Total Balance'],\n",
    "                    mode='lines+markers',\n",
    "                    name='lines+markers'))\n",
    "\n",
    "fig.show()"
   ]
  },
  {
   "cell_type": "code",
   "execution_count": 3,
   "metadata": {},
   "outputs": [
    {
     "output_type": "stream",
     "name": "stdout",
     "text": [
      "11 110\n12 120\n"
     ]
    }
   ],
   "source": [
    "import pandas as pd\n",
    "\n",
    "df = pd.DataFrame({'c1': [10, 11, 12], 'c2': [100, 110, 120]})\n",
    "only_above_10 = df.loc[df['c1'] > 10]\n",
    "\n",
    "\n",
    "for index, row in only_above_10.iterrows():\n",
    "    print(row['c1'], row['c2'])"
   ]
  }
 ],
 "metadata": {
  "kernelspec": {
   "name": "python390jvsc74a57bd00b660ded8ff8447da09d07df3afd24bbf4f0ee8665280624e7cc86e626af81de",
   "display_name": "Python 3.9.0 64-bit"
  },
  "language_info": {
   "codemirror_mode": {
    "name": "ipython",
    "version": 3
   },
   "file_extension": ".py",
   "mimetype": "text/x-python",
   "name": "python",
   "nbconvert_exporter": "python",
   "pygments_lexer": "ipython3",
   "version": "3.9.0"
  },
  "metadata": {
   "interpreter": {
    "hash": "0b660ded8ff8447da09d07df3afd24bbf4f0ee8665280624e7cc86e626af81de"
   }
  }
 },
 "nbformat": 4,
 "nbformat_minor": 4
}