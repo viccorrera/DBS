{
 "metadata": {
  "language_info": {
   "codemirror_mode": {
    "name": "ipython",
    "version": 3
   },
   "file_extension": ".py",
   "mimetype": "text/x-python",
   "name": "python",
   "nbconvert_exporter": "python",
   "pygments_lexer": "ipython3",
   "version": "3.8.3-final"
  },
  "orig_nbformat": 2,
  "kernelspec": {
   "name": "python3",
   "display_name": "Python 3"
  }
 },
 "nbformat": 4,
 "nbformat_minor": 2,
 "cells": [
  {
   "cell_type": "code",
   "execution_count": null,
   "metadata": {},
   "outputs": [],
   "source": [
    "import pandas as pd\n",
    "\n",
    "def generate_payslip(series):\n",
    "    # Convert DataFrame into Series\n",
    "    s = series\n",
    "    date = s['Date'].strftime('%d-%m-%Y')\n",
    "\n",
    "    file_name = '{}-{} {}.txt'.format(date, s['First Name'], s['Surname'])\n",
    "    with open(file_name, 'w') as f:\n",
    "        f.write('StaffID: {}\\n'.format(s['StaffID']))\n",
    "        f.write('Staff Name: {} {}\\n'.format(s['First Name'], s['Surname']))\n",
    "        f.write('PPSN: {}\\n'.format(s['PPS Number']))\n",
    "        f.write('Date: {}\\n'.format(date))\n",
    "        f.write('\\t\\tHours\\tRate\\tTotal\\n')\n",
    "        f.write('Regular\\t\\t{}\\t{}\\t{}\\n'.format(s['Regular'], s['Hourly Rate'], s['Regular Pay']))\n",
    "        f.write('Overtime\\t{}\\t{}\\t{}\\n\\n'.format(s['Overtime'], s['Overtime Rate'], s['Overtime Pay']))\n",
    "        f.write('Gross Pay\\t{}\\n\\n'.format(s['Gross Pay']))\n",
    "        f.write('\\t\\tRate\\tTotal\\n')\n",
    "        f.write('Standard Band\\t{:,.2f}\\t{:.0%}\\t{}\\n'.format(s['StandardBand'], s['StandardRate'], s['Regular Tax']))\n",
    "        f.write('Higher Rate\\t{:,.2f}\\t{:.0%}\\t{}\\n\\n'.format(s['Higher Rate Pay'], s['HigherRate'], s['HigherRate Tax']))\n",
    "\n",
    "\n",
    "# import Hours.txt\n",
    "hrs = pd.read_csv('Hours.txt', sep='\\t')\n",
    "hrs['Date'] = pd.to_datetime(hrs['Date'])\n",
    "\n",
    "# import Employees.txt\n",
    "emp = pd.read_csv('Employees.txt', sep='\\t')\n",
    "\n",
    "# import Tax Rate\n",
    "tax = pd.read_csv('Taxrates.txt', sep='\\t')\n",
    "\n",
    "# Merge Employee information onto Hours\n",
    "hrs = hrs.merge(emp, on='StaffID', how='left')\n",
    "\n",
    "hrs['StandardRate'] = tax.loc[0, 'Standard Rate'] / 100\n",
    "hrs['HigherRate'] = tax.loc[0, 'Higher Rate'] / 100\n",
    "hrs['Regular'] = hrs.apply(lambda x: x['Hours Worked'] if x['Hours Worked'] <= x['Standard Hours'] else x['Standard Hours'], axis=1)\n",
    "hrs['Overtime'] = hrs.apply(lambda x: x['Hours Worked'] - x['Standard Hours'] if x['Hours Worked'] >= x['Standard Hours'] else 0, axis=1)\n",
    "hrs['Regular Pay'] = hrs['Regular'] * hrs['Hourly Rate']\n",
    "hrs['Overtime Pay'] = hrs['Overtime'] * hrs['Overtime Rate']\n",
    "hrs['Gross Pay'] = hrs['Regular Pay'] + hrs['Overtime Pay']\n",
    "hrs['Higher Rate Pay'] = hrs.apply(lambda x: x['Gross Pay'] - x['StandardBand'] if x['Gross Pay'] > x['StandardBand'] else 0, axis=1)\n",
    "hrs['Regular Tax'] = hrs.apply(lambda x: x['Gross Pay'] * x['StandardRate'] if x['Gross Pay'] <= 700 else x['StandardBand'] * x['StandardRate'], axis=1)\n",
    "hrs['HigherRate Tax'] = hrs.apply(lambda x: (x['Gross Pay'] - x['StandardBand']) * x['HigherRate'] if x['Gross Pay'] > 700 else 0, axis=1)\n",
    "hrs['Total Deductions'] = hrs['Regular Tax'] + hrs['HigherRate Tax']\n",
    "hrs['Net Deductions'] = hrs['Total Deductions'] - hrs['TaxCredit']\n",
    "hrs['Net Pay'] = hrs['Gross Pay'] - hrs['Net Deductions']\n",
    "\n",
    "generate_payslip(hrs.iloc[0])"
   ]
  },
  {
   "cell_type": "code",
   "execution_count": null,
   "metadata": {},
   "outputs": [],
   "source": [
    "hrs.iloc[0]"
   ]
  }
 ]
}